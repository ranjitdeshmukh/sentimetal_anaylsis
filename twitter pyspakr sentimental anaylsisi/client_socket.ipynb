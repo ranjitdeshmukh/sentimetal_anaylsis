{
 "metadata": {
  "language_info": {
   "codemirror_mode": {
    "name": "ipython",
    "version": 3
   },
   "file_extension": ".py",
   "mimetype": "text/x-python",
   "name": "python",
   "nbconvert_exporter": "python",
   "pygments_lexer": "ipython3",
   "version": "3.9.2"
  },
  "orig_nbformat": 2,
  "kernelspec": {
   "name": "python3",
   "display_name": "Python 3.9.2 64-bit",
   "metadata": {
    "interpreter": {
     "hash": "2f048b2fcf1eeed29ab7c68feb8b9ef6cdc6cf2adf019a4ccb3c1e416e99f142"
    }
   }
  }
 },
 "nbformat": 4,
 "nbformat_minor": 2,
 "cells": [
  {
   "cell_type": "code",
   "execution_count": 1,
   "metadata": {},
   "outputs": [
    {
     "output_type": "stream",
     "name": "stdout",
     "text": [
      "Received b'RT @Eckleben: Aber esch Peterle Altmaier von der CDU hat doch gesagt, durch Corona (Covid19) wird niemand seinen Job verlieren? Sind jetzt\\xe2\\x80\\xa6'\n"
     ]
    }
   ],
   "source": [
    "import socket\n",
    "\n",
    "HOST = '127.0.0.1'  # The server's hostname or IP address\n",
    "PORT = 3343       # The port used by the server\n",
    "\n",
    "with socket.socket(socket.AF_INET, socket.SOCK_STREAM) as s:\n",
    "    s.connect((HOST, PORT))\n",
    "    data = s.recv(1024)\n",
    "\n",
    "print('Received', repr(data))"
   ]
  },
  {
   "cell_type": "code",
   "execution_count": null,
   "metadata": {},
   "outputs": [],
   "source": []
  }
 ]
}